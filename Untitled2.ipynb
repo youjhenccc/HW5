{
  "nbformat": 4,
  "nbformat_minor": 0,
  "metadata": {
    "colab": {
      "provenance": []
    },
    "kernelspec": {
      "name": "python3",
      "display_name": "Python 3"
    },
    "language_info": {
      "name": "python"
    }
  },
  "cells": [
    {
      "cell_type": "code",
      "execution_count": null,
      "metadata": {
        "id": "ONEBZRxw-uRL"
      },
      "outputs": [],
      "source": [
        "prescription = {\n",
        "    '名稱': '正骨紫金丹《丹》',\n",
        "    '出典': '醫宗金鑑',\n",
        "    '處方': {\n",
        "        '丁香': 2,  # 公克\n",
        "        '木香': 2,\n",
        "        '血竭': 2,\n",
        "        '兒茶': 2,\n",
        "        '熟大黃': 2,\n",
        "        '紅花': 2,\n",
        "        '當歸': 4,\n",
        "        '蓮肉': 4,\n",
        "        '茯苓': 4,\n",
        "        '白芍': 4,\n",
        "        '牡丹皮': 1,\n",
        "        '甘草': 0.6\n",
        "    },\n",
        "    '效能': ['活血','祛瘀','止痛'],\n",
        "    '適應症': ['跌撲損傷', '瘀血停滯']\n",
        "}\n",
        "\n",
        "# 使用 while 迴圈提供查詢服務\n",
        "while True:\n",
        "    query = input(\"\\n您想查詢什麼？(藥方名稱/出典/處方/效能/適應症/退出查詢)：\")\n",
        "\n",
        "    if query == \"藥方名稱\":\n",
        "        print(f\"{prescription['名稱']}\")\n",
        "    elif query == \"出典\":\n",
        "        print(f\"{prescription['名稱']}的出典為:{prescription['出典']}\")\n",
        "    elif query == \"適應症\":\n",
        "        print(f\"{prescription['名稱']}的適應症有:\")\n",
        "        for symptom in prescription['適應症']:\n",
        "            print(symptom)\n",
        "    elif query == \"處方\":\n",
        "        total_weight = sum(prescription['處方'].values())\n",
        "        print(f\"{prescription['名稱']}的處方為:\")\n",
        "        for medicine, weight in prescription['處方'].items():\n",
        "            print(f\"{medicine}：{weight}公克\")\n",
        "        print(f\"總克數為：{total_weight}公克\")\n",
        "    elif query == \"效能\":\n",
        "        print(f\"{prescription['名稱']}的效能是:\")\n",
        "        for efficiency in prescription['效能']:\n",
        "            print(efficiency)\n",
        "    elif query == \"退出查詢\":\n",
        "        print(\"感謝使用，再見！\")\n",
        "        break\n",
        "    else:\n",
        "        print(\"輸入無效，請重新輸入。\")"
      ]
    }
  ]
}